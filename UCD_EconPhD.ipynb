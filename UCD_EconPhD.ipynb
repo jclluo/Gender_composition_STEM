{
 "cells": [
  {
   "cell_type": "code",
   "execution_count": 5,
   "metadata": {},
   "outputs": [
    {
     "name": "stdout",
     "output_type": "stream",
     "text": [
      "Alaa AbdelfattahPh.D. Candidate - Labor Economics, Public Economicsaabdelfattah@ucdavis.eduPersonal WebsiteCV\n",
      "Sebastian AmadorPh.D. Candidate - Macroeconomics, Monetary Policyjsamador@ucdavis.eduPersonal WebsiteCurriculum Vitae\n",
      "Seungjin BaekPh.D. Candidate - International Economics, Macroeconomicssjsbaek@ucdavis.eduPersonal WebsiteCV\n",
      "Roozbeh F.  MoghadamPh.D. Candidate - Labor Economics, Public Economicsrfmoghadam@ucdavis.eduPersonal WebsiteCV\n",
      "Deokjae JeongPh.D. candidateApplied MicroeconomicsLabor Economicsjayjeo@ucdavis.eduhttps://www.jayjeo.com\n",
      "Eunju LeePh.D. Candidate - Health Economics, Public Economicsejulee@ucdavis.eduPersonal WebsiteCV\n",
      "Jou-chun LinPh.D. Candidate - Public Economicsjoulin@ucdavis.eduWebsiteCV\n",
      "Jinyoung SeoPh.D. Candidate - Monetary Economics, Macro-Financedkseo@ucdavis.eduhttps://jyseo.weebly.com/CV\n",
      "Estelle ShinPh.D. Candidate - Labor Economics, Education Economicsheshin@ucdavis.eduhttps://sites.google.com/view/estelleshinCV\n",
      "Reid TaylorPhD Candidate - Applied Micro, Energy & Environmental Economicsrbtaylor@ucdavis.eduPersonal WebsiteC.V.\n",
      "Reem ZaiourPh.D. Candidate - Labor Economics, Public Economicsrzaiour@ucdavis.eduwww.reemzaiour.comCV\n",
      "Baiyu ZhouPh.D. Candidate - Applied Microeconomics, Labor Economicsbaizhou@ucdavis.eduPersonal Website\n"
     ]
    }
   ],
   "source": [
    "## URL Spring 2024 Gender Gap Python Coding Testing: UCD (Econ)\n",
    "\n",
    "import urllib.request\n",
    "from bs4 import BeautifulSoup\n",
    "import re\n",
    "import pandas as pd\n",
    "import requests\n",
    "# Make sure to install gender-guesser !!\n",
    "import gender_guesser.detector as gender\n",
    "\n",
    "# Send an HTTP request to the webpage\n",
    "\n",
    "url = \"https://economics.ucdavis.edu/people/on-the-job-market\"\n",
    "\n",
    "page = requests.get(url)\n",
    "\n",
    "soup = BeautifulSoup(page.text,\"html.parser\")\n",
    "\n",
    "# Find all list items with class \"profile-listing-card\"\n",
    "data = []\n",
    "\n",
    "profile_listing_cards = soup.find_all(\"div\", class_=\"vm-teaser__body\")\n",
    "\n",
    "# Extract the text content of each list item\n",
    "for card in profile_listing_cards:\n",
    "    print(card.get_text(strip=True))"
   ]
  },
  {
   "cell_type": "code",
   "execution_count": 6,
   "metadata": {},
   "outputs": [
    {
     "name": "stdout",
     "output_type": "stream",
     "text": [
      "mostly_male\n",
      "male\n",
      "unknown\n",
      "unknown\n",
      "unknown\n",
      "unknown\n",
      "unknown\n",
      "unknown\n",
      "female\n",
      "male\n",
      "female\n",
      "unknown\n"
     ]
    }
   ],
   "source": [
    "# Creating item columns\n",
    "for people in profile_listing_cards:\n",
    "    item = {}\n",
    "\n",
    "    item['name'] = people.find(\"span\").text\n",
    "\n",
    "    item['field'] = people.find(\"ul\").text\n",
    "\n",
    "    item['school_website'] = \"https://economics.ucdavis.edu/people/on-the-job-market\" + people.find(\"a\").attrs[\"href\"]\n",
    "\n",
    "    item['personal_website'] = people.find(\"li\", class_=\"icon icon--link icon--web\")\n",
    "\n",
    "    # Add a new column 'school'\n",
    "    item['school'] = \"UCD\"\n",
    "\n",
    "    # Add a new column 'year'\n",
    "    item['year'] = \"2024\"\n",
    "\n",
    "    # Add a new column 'department'\n",
    "    item['department'] = \"Economics\"\n",
    "\n",
    "#Add a new column 'gender'\n",
    "    # Create a detector object used to guess gender\n",
    "    detector = gender.Detector()\n",
    "    # Split the name to get the first name\n",
    "    first_name = item['name'].split()[0]\n",
    "\n",
    "    # make sure to use the first name and not full name\n",
    "    gender_guess = detector.get_gender(first_name) \n",
    "\n",
    "    #Add a new column 'gender'\n",
    "    item['gender'] = detector.get_gender(first_name)  \n",
    "\n",
    "    # Double Check Code w/ Print Function\n",
    "    print(item['gender'])\n",
    "    \n",
    "    # Combine Items to Create Data\n",
    "    data.append(item)"
   ]
  },
  {
   "cell_type": "code",
   "execution_count": 7,
   "metadata": {},
   "outputs": [
    {
     "name": "stdout",
     "output_type": "stream",
     "text": [
      "                    name                                              field  \\\n",
      "0       Alaa Abdelfattah  \\nPh.D. Candidate - Labor Economics, Public Ec...   \n",
      "1       Sebastian Amador  \\nPh.D. Candidate - Macroeconomics, Monetary P...   \n",
      "2          Seungjin Baek  \\nPh.D. Candidate - International Economics, M...   \n",
      "3   Roozbeh F.  Moghadam  \\nPh.D. Candidate - Labor Economics, Public Ec...   \n",
      "4          Deokjae Jeong  \\nPh.D. candidate\\nApplied Microeconomics\\nLab...   \n",
      "5              Eunju Lee  \\nPh.D. Candidate - Health Economics, Public E...   \n",
      "6           Jou-chun Lin             \\nPh.D. Candidate - Public Economics\\n   \n",
      "7           Jinyoung Seo  \\nPh.D. Candidate - Monetary Economics, Macro-...   \n",
      "8           Estelle Shin  \\nPh.D. Candidate - Labor Economics, Education...   \n",
      "9            Reid Taylor  \\nPhD Candidate - Applied Micro, Energy & Envi...   \n",
      "10           Reem Zaiour  \\nPh.D. Candidate - Labor Economics, Public Ec...   \n",
      "11            Baiyu Zhou  \\nPh.D. Candidate - Applied Microeconomics, La...   \n",
      "\n",
      "                                       school_website  \\\n",
      "0   https://economics.ucdavis.edu/people/on-the-jo...   \n",
      "1   https://economics.ucdavis.edu/people/on-the-jo...   \n",
      "2   https://economics.ucdavis.edu/people/on-the-jo...   \n",
      "3   https://economics.ucdavis.edu/people/on-the-jo...   \n",
      "4   https://economics.ucdavis.edu/people/on-the-jo...   \n",
      "5   https://economics.ucdavis.edu/people/on-the-jo...   \n",
      "6   https://economics.ucdavis.edu/people/on-the-jo...   \n",
      "7   https://economics.ucdavis.edu/people/on-the-jo...   \n",
      "8   https://economics.ucdavis.edu/people/on-the-jo...   \n",
      "9   https://economics.ucdavis.edu/people/on-the-jo...   \n",
      "10  https://economics.ucdavis.edu/people/on-the-jo...   \n",
      "11  https://economics.ucdavis.edu/people/on-the-jo...   \n",
      "\n",
      "                                 personal_website school  year department  \\\n",
      "0                            [[Personal Website]]    UCD  2024  Economics   \n",
      "1                            [[Personal Website]]    UCD  2024  Economics   \n",
      "2                            [[Personal Website]]    UCD  2024  Economics   \n",
      "3                            [[Personal Website]]    UCD  2024  Economics   \n",
      "4                      [[https://www.jayjeo.com]]    UCD  2024  Economics   \n",
      "5                            [[Personal Website]]    UCD  2024  Economics   \n",
      "6                                     [[Website]]    UCD  2024  Economics   \n",
      "7                   [[https://jyseo.weebly.com/]]    UCD  2024  Economics   \n",
      "8   [[https://sites.google.com/view/estelleshin]]    UCD  2024  Economics   \n",
      "9                            [[Personal Website]]    UCD  2024  Economics   \n",
      "10                         [[www.reemzaiour.com]]    UCD  2024  Economics   \n",
      "11                           [[Personal Website]]    UCD  2024  Economics   \n",
      "\n",
      "         gender  \n",
      "0   mostly_male  \n",
      "1          male  \n",
      "2       unknown  \n",
      "3       unknown  \n",
      "4       unknown  \n",
      "5       unknown  \n",
      "6       unknown  \n",
      "7       unknown  \n",
      "8        female  \n",
      "9          male  \n",
      "10       female  \n",
      "11      unknown  \n"
     ]
    }
   ],
   "source": [
    "# Pandas & Semi-Cleaning Data\n",
    "df = pd.DataFrame(data)\n",
    "print(df)"
   ]
  },
  {
   "cell_type": "code",
   "execution_count": 8,
   "metadata": {},
   "outputs": [],
   "source": [
    "# Download CSV File\n",
    "# df.to_csv(\"UCD_Econ2024.csv\")"
   ]
  }
 ],
 "metadata": {
  "kernelspec": {
   "display_name": "Python 3",
   "language": "python",
   "name": "python3"
  },
  "language_info": {
   "codemirror_mode": {
    "name": "ipython",
    "version": 3
   },
   "file_extension": ".py",
   "mimetype": "text/x-python",
   "name": "python",
   "nbconvert_exporter": "python",
   "pygments_lexer": "ipython3",
   "version": "3.12.3"
  }
 },
 "nbformat": 4,
 "nbformat_minor": 2
}
