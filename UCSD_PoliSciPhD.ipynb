{
 "cells": [
  {
   "cell_type": "code",
   "execution_count": 9,
   "metadata": {},
   "outputs": [],
   "source": [
    "## URL Spring 2024 Gender Gap Python Coding Testing: UCSD (Economics)\n",
    "\n",
    "# Import BeautifulSoup4 Package for Web Scraping. NOTE: Need to download both requests, beautifulsoup, and pandas package.\n",
    "\n",
    "import urllib.request\n",
    "from bs4 import BeautifulSoup\n",
    "import re\n",
    "import pandas as pd\n",
    "import requests\n",
    "# Make sure to install gender-guesser !!\n",
    "import gender_guesser.detector as gender"
   ]
  },
  {
   "cell_type": "code",
   "execution_count": 10,
   "metadata": {},
   "outputs": [],
   "source": [
    "# Send an HTTP request to the webpage\n",
    "\n",
    "url = \"https://polisci.ucsd.edu/grad/hire-a-phd/index.html\"\n",
    "\n",
    "page = requests.get(url)\n",
    "\n",
    "soup = BeautifulSoup(page.text,\"html.parser\")"
   ]
  },
  {
   "cell_type": "code",
   "execution_count": 11,
   "metadata": {},
   "outputs": [
    {
     "name": "stdout",
     "output_type": "stream",
     "text": [
      "Austin BeachamInternational relations; environmental politics; geospatial methodsDissertation Title:Domestic Distribution and International Influence: The International Political Economy of Protected Areas and BiodiversityEmail: abeacham@ucsd.edu\n",
      "Micah FarverAmerican Politics; Environmental Policy; Interest GroupsDissertation Title:Interest Group Political Spending and State Environmental PolicyEmail:mfarver@ucsd.edu\n",
      "Adam FeferDemocratization and autocratization; power-sharing and federalism; ethnic and national conflictDissertation Title:Autocratic Ethnofederalism and Regime ChangeEmail:afefer@ucsd.edu\n",
      "Bianca FreemanInternational Relations; International Law; Race and Ethnic PoliticsDissertation Title:Under Color of International Law: Race and the Global Legal OrderEmail:breeman@ucsd.edu\n",
      "Jennifer GaudetteAmerican Politics; interest groups; local/urban politicsDissertation Title:Ideological Polarization in Police Union PoliticsEmail:jgaudette@ucsd.edu\n",
      "Patrick HulmeInternational Security; American Foreign Policy; Congressional-Executive RelationsDissertation Title:In the Shadow of Congress: the Legislature’s Influence over Use of Military Force Decisions and International BargainingEmail: mhulme@ucsd.edu\n",
      "D.G. (Daegyeong) KimInternational relations, race and ethnic politics, East AsiaDissertation Title:Anti-Asian Racism and the Racial Politics of US-China Great Power RivalryEmail:dak110@ucsd.edu\n",
      "Sichen LiTrade and Investment Policies; International Security; Network AnalysisDissertation Title:The Political Economy of Trade and Investment Restrictions in High-Tech SectorsEmail:sili@ucsd.edu\n",
      "Mackenzie LockhartAmerican politics; Voting and Elections; MethodologyDissertation Title:Do You Know My Name? How local elites influence primary election outcomesEmail:mwlockha@ucsd.edu\n",
      "Leo Y. YangComputational Social Science, Comparative Politics, Text as DataDissertation Title:Sowing Division: The Unintended Consequences of Geographic Tagging on Social MediaEmail:leoyang@ucsd.edu\n"
     ]
    }
   ],
   "source": [
    "# Find all list items with class \"profile-listing-card\"\n",
    "data = []\n",
    "\n",
    "profile_listing_cards = soup.find_all(\"li\", class_=\"profile-listing-card\")\n",
    "\n",
    "# Extract the text content of each list item\n",
    "for card in profile_listing_cards:\n",
    "    print(card.get_text(strip=True))"
   ]
  },
  {
   "cell_type": "code",
   "execution_count": 12,
   "metadata": {},
   "outputs": [
    {
     "name": "stdout",
     "output_type": "stream",
     "text": [
      "male\n",
      "male\n",
      "male\n",
      "female\n",
      "female\n",
      "male\n",
      "unknown\n",
      "unknown\n",
      "mostly_female\n",
      "male\n"
     ]
    }
   ],
   "source": [
    "for people in profile_listing_cards:\n",
    "    item = {}\n",
    "\n",
    "    item['name'] = people.find(\"h3\").text\n",
    "\n",
    "    item['field'] = people.find(\"p\").text\n",
    "\n",
    "    item['dissertation'] = people.find(lambda tag: tag.name == 'p' and 'Dissertation Title:' in tag.text).text\n",
    "\n",
    "    item['personal_website'] = people.find(\"a\")\n",
    "\n",
    "    # Add a new column 'school'\n",
    "    item['school'] = \"UCSD\"\n",
    "\n",
    "    #Add a new column 'year'\n",
    "    item['year'] = \"2024\"\n",
    "\n",
    "    #Add a new column 'department'\n",
    "    item['department'] = \"Political Science\"\n",
    "\n",
    "#Add a new column 'gender'\n",
    "    # Create a detector object used to guess gender\n",
    "    detector = gender.Detector()\n",
    "    # Split the name to get the first name\n",
    "    first_name = item['name'].split()[0]\n",
    "\n",
    "    # make sure to use the first name and not full name\n",
    "    gender_guess = detector.get_gender(first_name) \n",
    "\n",
    "    #Add a new column 'gender'\n",
    "    item['gender'] = detector.get_gender(first_name)\n",
    "\n",
    "    # Double Check Code w/ Print Function\n",
    "    print(item['gender'])\n",
    "\n",
    "     # Combine Items to Create Data\n",
    "    data.append(item)"
   ]
  },
  {
   "cell_type": "code",
   "execution_count": 13,
   "metadata": {},
   "outputs": [
    {
     "name": "stdout",
     "output_type": "stream",
     "text": [
      "                       name  \\\n",
      "0        \\nAustin Beacham\\n   \n",
      "1              Micah Farver   \n",
      "2            \\nAdam Fefer\\n   \n",
      "3        \\nBianca Freeman\\n   \n",
      "4     \\nJennifer Gaudette\\n   \n",
      "5         \\nPatrick Hulme\\n   \n",
      "6  \\nD.G. (Daegyeong) Kim\\n   \n",
      "7             \\nSichen Li\\n   \n",
      "8    \\nMackenzie Lockhart\\n   \n",
      "9           \\nLeo Y. Yang\\n   \n",
      "\n",
      "                                               field  \\\n",
      "0  International relations; environmental politic...   \n",
      "1  American Politics; Environmental Policy; Inter...   \n",
      "2  Democratization and autocratization; power-sha...   \n",
      "3   International Relations; International Law; R...   \n",
      "4  American Politics; interest groups; local/urba...   \n",
      "5  International Security; American Foreign Polic...   \n",
      "6  International relations, race and ethnic polit...   \n",
      "7  Dissertation Title: The Political Economy of T...   \n",
      "8  American politics; Voting and Elections; Metho...   \n",
      "9  Computational Social Science, Comparative Poli...   \n",
      "\n",
      "                                        dissertation personal_website school  \\\n",
      "0  Domestic Distribution and International Influence     [\\n, [], \\n]   UCSD   \n",
      "1  Interest Group Political Spending and State En...             None   UCSD   \n",
      "2       Autocratic Ethnofederalism and Regime Change     [\\n, [], \\n]   UCSD   \n",
      "3                   Under Color of International Law     [\\n, [], \\n]   UCSD   \n",
      "4  Ideological Polarization in Police Union Politics     [\\n, [], \\n]   UCSD   \n",
      "5                          In the Shadow of Congress     [\\n, [], \\n]   UCSD   \n",
      "6  Anti-Asian Racism and the Racial Politics of U...     [\\n, [], \\n]   UCSD   \n",
      "7  The Political Economy of Trade and Investment ...     [\\n, [], \\n]   UCSD   \n",
      "8  Do You Know My Name? How local elites influenc...     [\\n, [], \\n]   UCSD   \n",
      "9                                    Sowing Division     [\\n, [], \\n]   UCSD   \n",
      "\n",
      "   year         department         gender  \n",
      "0  2024  Political Science           male  \n",
      "1  2024  Political Science           male  \n",
      "2  2024  Political Science           male  \n",
      "3  2024  Political Science         female  \n",
      "4  2024  Political Science         female  \n",
      "5  2024  Political Science           male  \n",
      "6  2024  Political Science        unknown  \n",
      "7  2024  Political Science        unknown  \n",
      "8  2024  Political Science  mostly_female  \n",
      "9  2024  Political Science           male  \n"
     ]
    }
   ],
   "source": [
    "# Pandas & Semi-Cleaning Data\n",
    "def clean_advisor(text):\n",
    "    return text.split(':')[1][1:]\n",
    "df = pd.DataFrame(data)\n",
    "df['dissertation'] = df['dissertation'].apply(clean_advisor)\n",
    "print(df)"
   ]
  },
  {
   "cell_type": "code",
   "execution_count": 14,
   "metadata": {},
   "outputs": [],
   "source": [
    "# Download CSV File\n",
    "# df.to_csv(\"UCSD_PoliSci2024.csv\")"
   ]
  }
 ],
 "metadata": {
  "kernelspec": {
   "display_name": "Python 3",
   "language": "python",
   "name": "python3"
  },
  "language_info": {
   "codemirror_mode": {
    "name": "ipython",
    "version": 3
   },
   "file_extension": ".py",
   "mimetype": "text/x-python",
   "name": "python",
   "nbconvert_exporter": "python",
   "pygments_lexer": "ipython3",
   "version": "3.12.3"
  }
 },
 "nbformat": 4,
 "nbformat_minor": 2
}
