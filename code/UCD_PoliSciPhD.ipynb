{
 "cells": [
  {
   "cell_type": "code",
   "execution_count": 5,
   "metadata": {},
   "outputs": [
    {
     "name": "stdout",
     "output_type": "stream",
     "text": [
      "Rizwan AsgharPostdoctoral Fellow, Trinity College Dublin, International RelationsEmail: rasghar@ucdavis.eduWebsite:https://sites.google.com/view/rizwanasghar/Office: 569 Kerr Hall\n",
      "Raymond BrandtPh.D. CandidateEmail: rjbrandt@ucdavis.eduOffice: 685 Kerr Hall\n",
      "Samuel FullerEmail: sjfuller@ucdavis.eduOffice: 685 Kerr Hall\n",
      "McCage GriffithsPh.D. | LecturerEmail: mgriffiths@ucdavis.eduOffice: 686 Kerr Hall\n",
      "Spencer KieselLecturerEmail: skiesel@ucdavis.eduWebsite:https://www.spencerkiesel.com/Office: 570 Kerr Hall\n",
      "Jordan KujalaPh.D. American Politics and Political MethodologyEmail: jkujala@ucdavis.edu\n",
      "Rana B. McReynoldsPh.D. CandidateEmail: rmcreynolds@ucdavis.edu Website:ranabmcreynolds.comOffice: 568 Kerr Hall\n",
      "Marika MinerGraduate StudentEmail: mgminer@ucdavis.eduOffice: 577 Kerr Hall\n",
      "Johanan Dor MusselEmail: jdmussel@ucdavis.eduOffice: 662 Kerr Hall\n",
      "Paige PellatonGraduate StudentEmail: ppellaton@ucdavis.ed Website:https://www.linkedin.com/in/paige-pellaton/,https://twitter.com/PaigePellatonOffice: 566 Kerr Hall\n",
      "Mrs. Laurel YacutaDoctoral Candidate, Comparative Politics and International RelationsEmail: lyacuta@ucdavis.edu Website:https://laurelyacuta.github.ioOffice: 585 Kerr Hall\n"
     ]
    }
   ],
   "source": [
    "## URL Spring 2024 Gender Gap Python Coding Testing: UCD (PoliSci)\n",
    "\n",
    "import urllib.request\n",
    "from bs4 import BeautifulSoup\n",
    "import re\n",
    "import pandas as pd\n",
    "import requests\n",
    "# Make sure to install gender-guesser !!\n",
    "import gender_guesser.detector as gender\n",
    "\n",
    "# Send an HTTP request to the webpage\n",
    "\n",
    "url = \"https://ps.ucdavis.edu/job-market-0\"\n",
    "\n",
    "page = requests.get(url)\n",
    "\n",
    "soup = BeautifulSoup(page.text,\"html.parser\")\n",
    "\n",
    "# Find all list items with class \"profile-listing-card\"\n",
    "data = []\n",
    "\n",
    "profile_listing_cards = soup.find_all(\"layout-columns\")\n",
    "\n",
    "# Extract the text content of each list item\n",
    "for card in profile_listing_cards:\n",
    "    print(card.get_text(strip=True))"
   ]
  },
  {
   "cell_type": "code",
   "execution_count": 6,
   "metadata": {},
   "outputs": [
    {
     "name": "stdout",
     "output_type": "stream",
     "text": [
      "male\n",
      "male\n",
      "male\n",
      "unknown\n",
      "male\n",
      "male\n",
      "female\n",
      "female\n",
      "unknown\n",
      "andy\n",
      "unknown\n"
     ]
    }
   ],
   "source": [
    "# Creating item columns\n",
    "for people in profile_listing_cards:\n",
    "    item = {}\n",
    "\n",
    "    item['name'] = people.find(\"h3\").text\n",
    "\n",
    "# having trouble scraping the personal website and cv since the tags are the same\n",
    "    item['personal_website'] = people.find(lambda tag: tag.name == 'p' and 'Website:' in tag.text)\n",
    "\n",
    "    item['school_website'] = people.find(\"a\").attrs[\"href\"]\n",
    "\n",
    "    # Add a new column 'school'\n",
    "    item['school'] = \"UCD\"\n",
    "\n",
    "    # Add a new column 'year'\n",
    "    item['year'] = \"2024\"\n",
    "\n",
    "    # Add a new column 'department'\n",
    "    item['department'] = \"Political Science\"\n",
    "\n",
    "#Add a new column 'gender'\n",
    "    # Create a detector object used to guess gender\n",
    "    detector = gender.Detector()\n",
    "    # Split the name to get the first name\n",
    "    first_name = item['name'].split()[0]\n",
    "\n",
    "    # make sure to use the first name and not full name\n",
    "    gender_guess = detector.get_gender(first_name) \n",
    "\n",
    "    #Add a new column 'gender'\n",
    "    item['gender'] = detector.get_gender(first_name)  \n",
    "\n",
    "    # Double Check Code w/ Print Function\n",
    "    print(item['gender'])\n",
    "    \n",
    "    # Combine Items to Create Data\n",
    "    data.append(item)"
   ]
  },
  {
   "cell_type": "code",
   "execution_count": 7,
   "metadata": {},
   "outputs": [
    {
     "name": "stdout",
     "output_type": "stream",
     "text": [
      "                  name                                   personal_website  \\\n",
      "0        Rizwan Asghar  [[Postdoctoral Fellow, Trinity College Dublin,...   \n",
      "1       Raymond Brandt                                               None   \n",
      "2        Samuel Fuller                                               None   \n",
      "3     McCage Griffiths                                               None   \n",
      "4       Spencer Kiesel  [[Lecturer], [], \\n\\tEmail: skiesel@ucdavis.ed...   \n",
      "5        Jordan Kujala                                               None   \n",
      "6   Rana B. McReynolds  [[Ph.D. Candidate],  , [], \\n\\tEmail: rmcreyno...   \n",
      "7         Marika Miner                                               None   \n",
      "8   Johanan Dor Mussel                                               None   \n",
      "9       Paige Pellaton  [[Graduate Student], [], \\n\\tEmail: ppellaton@...   \n",
      "10  Mrs. Laurel Yacuta  [[Doctoral Candidate, Comparative Politics and...   \n",
      "\n",
      "                                    school_website school  year  \\\n",
      "0      https://ps.ucdavis.edu/people/rizwan-asghar    UCD  2024   \n",
      "1     https://ps.ucdavis.edu/people/raymond-brandt    UCD  2024   \n",
      "2      https://ps.ucdavis.edu/people/samuel-fuller    UCD  2024   \n",
      "3   https://ps.ucdavis.edu/people/mccage-griffiths    UCD  2024   \n",
      "4     https://ps.ucdavis.edu/people/spencer-kiesel    UCD  2024   \n",
      "5      https://ps.ucdavis.edu/people/jordan-kujala    UCD  2024   \n",
      "6    https://ps.ucdavis.edu/people/rana-mcreynolds    UCD  2024   \n",
      "7       https://ps.ucdavis.edu/people/marika-miner    UCD  2024   \n",
      "8     https://ps.ucdavis.edu/people/johanan-mussel    UCD  2024   \n",
      "9     https://ps.ucdavis.edu/people/paige-pellaton    UCD  2024   \n",
      "10     https://ps.ucdavis.edu/people/laurel-yacuta    UCD  2024   \n",
      "\n",
      "           department   gender  \n",
      "0   Political Science     male  \n",
      "1   Political Science     male  \n",
      "2   Political Science     male  \n",
      "3   Political Science  unknown  \n",
      "4   Political Science     male  \n",
      "5   Political Science     male  \n",
      "6   Political Science   female  \n",
      "7   Political Science   female  \n",
      "8   Political Science  unknown  \n",
      "9   Political Science     andy  \n",
      "10  Political Science  unknown  \n"
     ]
    }
   ],
   "source": [
    "# Pandas & Semi-Cleaning Data\n",
    "df = pd.DataFrame(data)\n",
    "print(df)"
   ]
  },
  {
   "cell_type": "code",
   "execution_count": 8,
   "metadata": {},
   "outputs": [],
   "source": [
    "# Download CSV File\n",
    "# df.to_csv(\"UCD_PoliSci2024.csv\")"
   ]
  }
 ],
 "metadata": {
  "kernelspec": {
   "display_name": "Python 3",
   "language": "python",
   "name": "python3"
  },
  "language_info": {
   "codemirror_mode": {
    "name": "ipython",
    "version": 3
   },
   "file_extension": ".py",
   "mimetype": "text/x-python",
   "name": "python",
   "nbconvert_exporter": "python",
   "pygments_lexer": "ipython3",
   "version": "3.12.3"
  }
 },
 "nbformat": 4,
 "nbformat_minor": 2
}
