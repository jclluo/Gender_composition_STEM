{
 "cells": [
  {
   "cell_type": "code",
   "execution_count": 1,
   "metadata": {},
   "outputs": [],
   "source": [
    "from bs4 import BeautifulSoup\n",
    "import requests\n",
    "from urllib.parse import urljoin, urlparse\n",
    "import pandas as pd\n",
    "\n",
    "# Website of job market candidates that we want to scrape\n",
    "url = \"https://economics.yale.edu/phd-program/placement\"\n",
    "\n",
    "# Get HTML content of the website\n",
    "page = requests.get(url)\n",
    "soup = BeautifulSoup(page.text, \"html.parser\") #page.text?\n",
    "\n",
    "data = []\n",
    "\n",
    "# Find all list items with class \"node-teaser_header\"\n",
    "#for item in soup.find_all(\"li\", class_=\"node-teaser_header\"):\n",
    "headers = soup.find_all(\"li\", class_=\"node-teaser_header\")\n",
    "\n",
    "# Extract the text content of the list items\n",
    "for header in headers:\n",
    "    print(header.get_text(strip=True))"
   ]
  }
 ],
 "metadata": {
  "kernelspec": {
   "display_name": "Python 3",
   "language": "python",
   "name": "python3"
  },
  "language_info": {
   "codemirror_mode": {
    "name": "ipython",
    "version": 3
   },
   "file_extension": ".py",
   "mimetype": "text/x-python",
   "name": "python",
   "nbconvert_exporter": "python",
   "pygments_lexer": "ipython3",
   "version": "3.12.3"
  }
 },
 "nbformat": 4,
 "nbformat_minor": 2
}
