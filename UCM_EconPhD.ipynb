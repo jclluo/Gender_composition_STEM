{
 "cells": [
  {
   "cell_type": "code",
   "execution_count": 1,
   "metadata": {},
   "outputs": [
    {
     "name": "stdout",
     "output_type": "stream",
     "text": [
      "Zhangping CaiGraduate Studentzcai12@ucmerced.edu\n",
      "Emily DieckmannGraduate Studentedieckmann@ucmerced.edu\n",
      "Zerin  DongGraduate Studentzdong12@ucmerced.edu\n",
      "Kris GulatiGraduate Studentkgulati@ucmerced.edu\n",
      "Tiffany HoGraduate Studenttho67@ucmerced.edu\n",
      "Tony HuaGraduate Studentthua5@ucmerced.edu\n",
      "Raymond KimGraduate Studentrkim57@ucmerced.edu\n",
      "Quy  LamGraduate Student  & Charles Perry Ellis Fellow in Economics, Spring 2022qlam@ucmerced.edu\n",
      "Anqi  LiGraduate Studentali88@ucmerced.edu\n",
      "Leidy Lozano LavaoGraduate Studentllozanolavao@ucmerced.edu\n",
      "Jose RosaGraduate Studentjrosa3@ucmerced.edu\n",
      "Soo  Yeon KimGraduate Studentskim418@ucmerced.edu\n"
     ]
    }
   ],
   "source": [
    "## URL Spring 2024 Gender Gap Python Coding Testing: UCMerced (Economics)\n",
    "\n",
    "# Import BeautifulSoup4 Package for Web Scraping. NOTE: Need to download both requests, beautifulsoup, and pandas package.\n",
    "\n",
    "import urllib.request\n",
    "from bs4 import BeautifulSoup\n",
    "import re\n",
    "import pandas as pd\n",
    "import requests\n",
    "# Make sure to install gender-guesser !!\n",
    "import gender_guesser.detector as gender\n",
    "\n",
    "# Send an HTTP request to the webpage\n",
    "\n",
    "url = \"https://economics.ucmerced.edu/graduate-students\"\n",
    "\n",
    "page = requests.get(url)\n",
    "\n",
    "soup = BeautifulSoup(page.text,\"html.parser\")\n",
    "\n",
    "# Find all list items with class \"profile-listing-card\"\n",
    "data = []\n",
    "\n",
    "profile_listing_cards = soup.find_all(\"div\", class_=\"views-row\")\n",
    "\n",
    "# Extract the text content of each list item\n",
    "for card in profile_listing_cards:\n",
    "    print(card.get_text(strip=True))"
   ]
  },
  {
   "cell_type": "code",
   "execution_count": 2,
   "metadata": {},
   "outputs": [
    {
     "name": "stdout",
     "output_type": "stream",
     "text": [
      "unknown\n",
      "female\n",
      "unknown\n",
      "mostly_male\n",
      "female\n",
      "male\n",
      "male\n",
      "mostly_male\n",
      "unknown\n",
      "female\n",
      "male\n",
      "andy\n"
     ]
    }
   ],
   "source": [
    "# Creating item columns\n",
    "for people in profile_listing_cards:\n",
    "    item = {}\n",
    "\n",
    "    item['name'] = people.find(\"a\").text\n",
    "\n",
    "    item['school_website'] = \"https://economics.ucmerced.edu/\" + people.find(\"a\").attrs[\"href\"]\n",
    "\n",
    "        # Add a new column 'school'\n",
    "    item['school'] = \"UCM\"\n",
    "\n",
    "    # Add a new column 'year'\n",
    "    item['year'] = \"2024\"\n",
    "\n",
    "    # Add a new column 'department'\n",
    "    item['department'] = \"Economics\"\n",
    "\n",
    "    #Add a new column 'gender'\n",
    "    # Create a detector object used to guess gender\n",
    "    detector = gender.Detector()\n",
    "    # Split the name to get the first name\n",
    "    first_name = item['name'].split()[0]\n",
    "\n",
    "    # make sure to use the first name and not full name\n",
    "    gender_guess = detector.get_gender(first_name) \n",
    "\n",
    "    #Add a new column 'gender'\n",
    "    item['gender'] = detector.get_gender(first_name)  \n",
    "\n",
    "    # Double Check Code w/ Print Function\n",
    "    print(item['gender'])\n",
    "    \n",
    "    # Combine Items to Create Data\n",
    "    data.append(item)"
   ]
  },
  {
   "cell_type": "code",
   "execution_count": 3,
   "metadata": {},
   "outputs": [
    {
     "name": "stdout",
     "output_type": "stream",
     "text": [
      "                  name                                     school_website  \\\n",
      "0        Zhangping Cai  https://economics.ucmerced.edu//content/zhangp...   \n",
      "1      Emily Dieckmann  https://economics.ucmerced.edu//content/emily-...   \n",
      "2          Zerin  Dong  https://economics.ucmerced.edu//content/zerin-...   \n",
      "3          Kris Gulati  https://economics.ucmerced.edu//content/kris-g...   \n",
      "4           Tiffany Ho  https://economics.ucmerced.edu//content/tiffan...   \n",
      "5             Tony Hua   https://economics.ucmerced.edu//content/tony-hua   \n",
      "6          Raymond Kim  https://economics.ucmerced.edu//content/raymon...   \n",
      "7             Quy  Lam    https://economics.ucmerced.edu//content/quy-lam   \n",
      "8             Anqi  Li    https://economics.ucmerced.edu//content/anqi-li   \n",
      "9   Leidy Lozano Lavao  https://economics.ucmerced.edu//content/leidy-...   \n",
      "10           Jose Rosa  https://economics.ucmerced.edu//content/jose-rosa   \n",
      "11       Soo  Yeon Kim  https://economics.ucmerced.edu//content/soo-ye...   \n",
      "\n",
      "   school  year department       gender  \n",
      "0     UCM  2024  Economics      unknown  \n",
      "1     UCM  2024  Economics       female  \n",
      "2     UCM  2024  Economics      unknown  \n",
      "3     UCM  2024  Economics  mostly_male  \n",
      "4     UCM  2024  Economics       female  \n",
      "5     UCM  2024  Economics         male  \n",
      "6     UCM  2024  Economics         male  \n",
      "7     UCM  2024  Economics  mostly_male  \n",
      "8     UCM  2024  Economics      unknown  \n",
      "9     UCM  2024  Economics       female  \n",
      "10    UCM  2024  Economics         male  \n",
      "11    UCM  2024  Economics         andy  \n"
     ]
    }
   ],
   "source": [
    "# Pandas & Semi-Cleaning Data\n",
    "df = pd.DataFrame(data)\n",
    "print(df)"
   ]
  },
  {
   "cell_type": "code",
   "execution_count": 4,
   "metadata": {},
   "outputs": [],
   "source": [
    "# Download CSV File\n",
    "# df.to_csv(\"UCM_Econ2024.csv\")"
   ]
  }
 ],
 "metadata": {
  "kernelspec": {
   "display_name": "Python 3",
   "language": "python",
   "name": "python3"
  },
  "language_info": {
   "codemirror_mode": {
    "name": "ipython",
    "version": 3
   },
   "file_extension": ".py",
   "mimetype": "text/x-python",
   "name": "python",
   "nbconvert_exporter": "python",
   "pygments_lexer": "ipython3",
   "version": "3.12.3"
  }
 },
 "nbformat": 4,
 "nbformat_minor": 2
}
