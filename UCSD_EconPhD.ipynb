{
 "cells": [
  {
   "cell_type": "code",
   "execution_count": 78,
   "metadata": {},
   "outputs": [
    {
     "name": "stdout",
     "output_type": "stream",
     "text": [
      "Vivian AluochAdvisor(s):Paul NiehausField of Research:Development Economics and LaborEconomicsPersonal Website\n",
      "Hannah BaeAdvisor(s):Katherine MeckelField of Research:Health Economics and Public Economics; Labor EconomicsPersonal Website\n",
      "Evgenii BaranovAdvisor(s):Joel SobelField of Research:Microeconomic Theory; Behavioral Economics, Experimental EconomicsPersonal Website\n",
      "Amanda BonheurAdvisor(s):Isabel Trevino; Gordon DahlField of Research:Behavioral Economics andLabor Economics; Applied MicroeconomicsPersonal Website\n",
      "Edoardo BrigantiAdvisor(s):Valerie RameyField of Research:Macroeconomics and Fiscal Policy; Monetary PolicyPersonal Website\n",
      "Junyuan ChenAdvisor(s):Valerie RameyField of Research:Macroeconomics; International TradePersonal Website\n",
      "Tjeerd de VriesAdvisor(s):Allan Timmermann; Alexis TodaField of Research:Finance; EconometricsPersonal Website\n",
      "Danil DmitrievAdvisor(s):Renee BowenField of Research:Microeconomic Theory; Political EconomyPersonal Website\n",
      "Tanner EastmondAdvisor(s):Gordon Dahl; Itzik FadlonField of Research:Labor Economics; Public EconomicsPersonal Website\n",
      "Stefan FaridaniAdvisor(s):Graham ElliottField of Research:Econometrics; DevelopmentPersonal Website\n",
      "Carlos GoesAdvisor(s):Marc MuendlerField of Research:International Trade and MacroeconomicsPersonal Website\n",
      "Zachary HallAdvisor(s):Jeffrey Clemens; Itzik FadlonField of Research:Applied Microeconomics; Behavioral EconomicsPersonal Website\n",
      "Jinhyeon HanAdvisor(s):Gordon DahlField of Research:Labor and Innovation EconomicsPersonal Website\n",
      "Songyu HeAdvisor(s):Charles Sprenger; Emanuel VespaField of Research:Behavioral and Experimental Economics; Microeconomic TheoryPersonal Website\n",
      "Xiameng HuaAdvisor(s):Joel WatsonField of Research:Relational Contract; Entrepreneurial Finance, Microeconomic TheoryPersonal Website\n",
      "Frances LuAdvisor(s):Prashant Bharadwaj; Tom VoglField of Research:Development Economics; Labor EconomicsPersonal Website\n",
      "Beata LuczywekAdvisor(s):Prashant BharadwajField of Research:Labor Economics; Public Economics, Applied MicroeconomicsPersonal Website\n",
      "Diana MartinezAdvisor(s):Craig McIntosh; Prashant BharadwajField of Research:Development Economics; Labor EconomicsPersonal Website\n",
      "Anjali PaiAdvisor(s):Julian BettsField of Research:Economics of Education, Labor Economics, Applied Microeconomics; Behavioral EconomicsPersonal Website\n",
      "Sabareesh RamachandranAdvisor(s):Karthik Muralidharan; Paul NiehausField of Research:Development Economics; Public EconomicsPersonal Website\n",
      "Rohini RayAdvisor(s):Johannes WielandField of Research:Macro Finance; Development Economics, ClimatePersonal Website\n",
      "Rebecca RoyerAdvisor(s):James Andreoni; Gordon DahlField of Research:Behavioral and Experimental Economics; Labor EconomicsPersonal Website\n",
      "Ali UppalAdvisor(s):James HamiltonField of Research:Macroeconomics and Monetary Economics; Banking and FinancePersonal Website\n",
      "Ha VuAdvisor(s):Joshua Graff ZivinField of Research:Environmental Economics, Development Economics, and Applied MicroeconomicsPersonal Website\n",
      "Hanyi WangAdvisor(s):Mark JacobsenField of Research:Environmental Economics and Public EconomicsPersonal Website\n",
      "Adrian WolanskiAdvisor(s):Isabel TrevinoField of Research:Experimental Economics; Behavioral Economics, Microeconomic Theory, Decision TheoryPersonal Website\n",
      "Jin XiAdvisor(s):James HamiltonField of Research:Econometrics of high-dimensional data; Macroeconomic forecastingPersonal Website\n"
     ]
    }
   ],
   "source": [
    "## URL Spring 2024 Gender Gap Python Coding Testing: UCSD (Economics)\n",
    "\n",
    "# Import BeautifulSoup4 Package for Web Scraping. NOTE: Need to download both requests, beautifulsoup, and pandas package.\n",
    "\n",
    "import urllib.request\n",
    "from bs4 import BeautifulSoup\n",
    "import re\n",
    "import pandas as pd\n",
    "import requests\n",
    "\n",
    "# Send an HTTP request to the webpage\n",
    "\n",
    "url = \"https://economics.ucsd.edu/graduate-program/jobmarket-tab/index.html\"\n",
    "\n",
    "page = requests.get(url)\n",
    "\n",
    "soup = BeautifulSoup(page.text,\"html.parser\")\n",
    "\n",
    "# Find all list items with class \"profile-listing-card\"\n",
    "data = []\n",
    "\n",
    "profile_listing_cards = soup.find_all(\"li\", class_=\"profile-listing-card\")\n",
    "\n",
    "# Extract the text content of each list item\n",
    "for card in profile_listing_cards:\n",
    "    print(card.get_text(strip=True))\n"
   ]
  },
  {
   "cell_type": "code",
   "execution_count": 79,
   "metadata": {},
   "outputs": [
    {
     "name": "stdout",
     "output_type": "stream",
     "text": [
      "Field of Research: Development Economics and Labor Economics\n",
      "Field of Research: Health Economics and Public Economics; Labor Economics\n",
      "Field of Research: Microeconomic Theory; Behavioral Economics, Experimental Economics\n",
      "Field of Research: Behavioral Economics and Labor Economics; Applied Microeconomics\n",
      "Field of Research: Macroeconomics and Fiscal Policy; Monetary Policy\n",
      "Field of Research: Macroeconomics; International Trade \n",
      "Field of Research: Finance; Econometrics\n",
      "Field of Research: Microeconomic Theory; Political Economy\n",
      "Field of Research: Labor Economics; Public Economics\n",
      "Field of Research: Econometrics; Development\n",
      "Field of Research: International Trade and Macroeconomics\n",
      "Field of Research: Applied Microeconomics; Behavioral Economics\n",
      "Field of Research: Labor and Innovation Economics\n",
      "Field of Research: Behavioral and Experimental Economics; Microeconomic Theory\n",
      "Field of Research: Relational Contract; Entrepreneurial Finance, Microeconomic Theory\n",
      "Field of Research: Development Economics; Labor Economics\n",
      "Field of Research: Labor Economics; Public Economics, Applied Microeconomics\n",
      "Field of Research: Development Economics; Labor Economics\n",
      "Field of Research: Economics of Education, Labor Economics, Applied Microeconomics; Behavioral Economics\n",
      "Field of Research: Development Economics; Public Economics\n",
      "Field of Research: Macro Finance; Development Economics, Climate\n",
      "Field of Research: Behavioral and Experimental Economics; Labor Economics\n",
      "Field of Research: Macroeconomics and Monetary Economics; Banking and Finance\n",
      "Field of Research: Environmental Economics, Development Economics, and Applied Microeconomics\n",
      "Field of Research: Environmental Economics and Public Economics\n",
      "Field of Research: Experimental Economics; Behavioral Economics, Microeconomic Theory, Decision Theory\n",
      "Field of Research: Econometrics of high-dimensional data; Macroeconomic forecasting\n"
     ]
    }
   ],
   "source": [
    "# Creating item columns\n",
    "for people in profile_listing_cards:\n",
    "    item = {}\n",
    "\n",
    "    item['Name'] = people.find(\"h3\").text\n",
    "    # OR item['Name2'] = people.find(\"img\").attrs[\"alt\"] - both works\n",
    "\n",
    "    item['Advisor(s)'] = people.find(\"p\").text\n",
    "\n",
    "    item['Field'] = people.find(lambda tag: tag.name == 'p' and 'Field of Research:' in tag.text).text\n",
    "\n",
    "    item['PersonalWebsite'] = people.find(\"a\").attrs[\"href\"]\n",
    "\n",
    "    # Double Check Code w/ Print Function\n",
    "    print(item['Field'])"
   ]
  },
  {
   "cell_type": "code",
   "execution_count": 80,
   "metadata": {},
   "outputs": [],
   "source": [
    "# Combine Items to Create Data\n",
    "data.append(item)"
   ]
  },
  {
   "cell_type": "code",
   "execution_count": 89,
   "metadata": {},
   "outputs": [
    {
     "name": "stdout",
     "output_type": "stream",
     "text": [
      "     Name                  Advisor(s)  \\\n",
      "0  Jin Xi  Advisor(s): James Hamilton   \n",
      "\n",
      "                                               Field    PersonalWebsite  \n",
      "0  Field of Research: Econometrics of high-dimens...  https://jinxi.me/  \n",
      "     Name      Advisor(s)                                              Field  \\\n",
      "0  Jin Xi  James Hamilton  Field of Research: Econometrics of high-dimens...   \n",
      "\n",
      "     PersonalWebsite  \n",
      "0  https://jinxi.me/  \n"
     ]
    }
   ],
   "source": [
    "# Pandas & Cleaning Data\n",
    "def clean_advisor(text):\n",
    "    return text.split(':')[1][1:]\n",
    "df = pd.DataFrame(data)\n",
    "print(df)\n",
    "df['Advisor(s)'] = df['Advisor(s)'].apply(clean_advisor)\n",
    "df['Field'] = df['Field'].apply(clean_advisor)\n",
    "print(df)"
   ]
  },
  {
   "cell_type": "code",
   "execution_count": null,
   "metadata": {},
   "outputs": [],
   "source": [
    "# Download CSV File\n",
    "# df.to_csv(\"UCSD_Econ2024.csv\")"
   ]
  }
 ],
 "metadata": {
  "kernelspec": {
   "display_name": "Python 3",
   "language": "python",
   "name": "python3"
  },
  "language_info": {
   "codemirror_mode": {
    "name": "ipython",
    "version": 3
   },
   "file_extension": ".py",
   "mimetype": "text/x-python",
   "name": "python",
   "nbconvert_exporter": "python",
   "pygments_lexer": "ipython3",
   "version": "3.12.3"
  }
 },
 "nbformat": 4,
 "nbformat_minor": 2
}
