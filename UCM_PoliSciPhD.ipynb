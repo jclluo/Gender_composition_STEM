{
 "cells": [
  {
   "cell_type": "code",
   "execution_count": 7,
   "metadata": {},
   "outputs": [],
   "source": [
    "## URL Spring 2024 Gender Gap Python Coding Testing: UCMerced (PoliScience)\n",
    "\n",
    "import urllib.request\n",
    "from bs4 import BeautifulSoup\n",
    "import re\n",
    "import pandas as pd\n",
    "import requests\n",
    "# Make sure to install gender-guesser !!\n",
    "import gender_guesser.detector as gender"
   ]
  },
  {
   "cell_type": "code",
   "execution_count": 8,
   "metadata": {},
   "outputs": [],
   "source": [
    "# Send an HTTP request to the webpage\n",
    "\n",
    "url = \"https://polisci.ucmerced.edu/hire-phd\"\n",
    "\n",
    "page = requests.get(url)\n",
    "\n",
    "soup = BeautifulSoup(page.text,\"html.parser\")"
   ]
  },
  {
   "cell_type": "code",
   "execution_count": 9,
   "metadata": {},
   "outputs": [
    {
     "name": "stdout",
     "output_type": "stream",
     "text": [
      "JunHyeok JangDissertation: Political Institution, Information, and AuthoritarianismFocus Areas: Authoritarian Politics; Democratic backsliding; Information ControlChair: Haifeng HuangWebsite:https://www.junhyeokjang.com/Updated August 2023\n"
     ]
    }
   ],
   "source": [
    "# Find all list items with class \"profile-listing-card\"\n",
    "data = []\n",
    "\n",
    "profile_listing_cards = soup.find_all(\"div\", class_=\"field-items\")\n",
    "\n",
    "# Extract the text content of each list item\n",
    "for card in profile_listing_cards:\n",
    "    print(card.get_text(strip=True))"
   ]
  },
  {
   "cell_type": "code",
   "execution_count": 10,
   "metadata": {},
   "outputs": [
    {
     "name": "stdout",
     "output_type": "stream",
     "text": [
      "JunHyeok Jang\n"
     ]
    }
   ],
   "source": [
    "# Extract the text content of each list item #NOT A LIST SO NEED TO FIX THE TOP PART\n",
    "for people in profile_listing_cards:\n",
    "    item = {}\n",
    "\n",
    "    item['name'] = people.find(\"h3\").text\n",
    "\n",
    "    item['dissertation'] = people.find(lambda tag: tag.name == 'p' and 'Dissertation:' in tag.text).text\n",
    "\n",
    "    item['field'] = people.find(lambda tag: tag.name == 'p' and 'Focus Areas:' in tag.text).text\n",
    "\n",
    "    item['chair'] = people.find(lambda tag: tag.name == 'p' and 'Chair:' in tag.text).text\n",
    "\n",
    "    item['personal_website'] = people.find(lambda tag: tag.name == 'p' and 'Website:' in tag.text).text\n",
    "\n",
    "        # Add a new column 'school'\n",
    "    item['school'] = \"UCM\"\n",
    "\n",
    "    # Add a new column 'year'\n",
    "    item['year'] = \"2024\"\n",
    "\n",
    "    # Add a new column 'department'\n",
    "    item['department'] = \"Political Science\"\n",
    "\n",
    "#Add a new column 'gender'\n",
    "    # Create a detector object used to guess gender\n",
    "    detector = gender.Detector()\n",
    "    # Split the name to get the first name\n",
    "    first_name = item['name'].split()[0]\n",
    "\n",
    "    # make sure to use the first name and not full name\n",
    "    gender_guess = detector.get_gender(first_name) \n",
    "\n",
    "    #Add a new column 'gender'\n",
    "    item['gender'] = detector.get_gender(first_name)  \n",
    "\n",
    "    # Double Check Code w/ Print Function\n",
    "    print(item['name'])\n",
    "\n",
    "     # Combine Items to Create Data\n",
    "    data.append(item)"
   ]
  },
  {
   "cell_type": "code",
   "execution_count": 11,
   "metadata": {},
   "outputs": [
    {
     "name": "stdout",
     "output_type": "stream",
     "text": [
      "            name                                       dissertation  \\\n",
      "0  JunHyeok Jang  Political Institution, Information, and Author...   \n",
      "\n",
      "                                               field          chair  \\\n",
      "0  Authoritarian Politics; Democratic backsliding...  Haifeng Huang   \n",
      "\n",
      "  personal_website school  year         department   gender  \n",
      "0            https    UCM  2024  Political Science  unknown  \n"
     ]
    }
   ],
   "source": [
    "# Pandas & Semi-Cleaning Data\n",
    "def clean_advisor(text):\n",
    "    return text.split(':')[1][1:]\n",
    "df = pd.DataFrame(data)\n",
    "df['dissertation'] = df['dissertation'].apply(clean_advisor)\n",
    "df['field'] = df['field'].apply(clean_advisor)\n",
    "df['chair'] = df['chair'].apply(clean_advisor)\n",
    "df['personal_website'] = df['personal_website'].apply(clean_advisor)\n",
    "print(df)"
   ]
  },
  {
   "cell_type": "code",
   "execution_count": 12,
   "metadata": {},
   "outputs": [],
   "source": [
    "# Download CSV File\n",
    "# df.to_csv(\"UCM_PoliSci2024.csv\")"
   ]
  }
 ],
 "metadata": {
  "kernelspec": {
   "display_name": "Python 3",
   "language": "python",
   "name": "python3"
  },
  "language_info": {
   "codemirror_mode": {
    "name": "ipython",
    "version": 3
   },
   "file_extension": ".py",
   "mimetype": "text/x-python",
   "name": "python",
   "nbconvert_exporter": "python",
   "pygments_lexer": "ipython3",
   "version": "3.12.3"
  }
 },
 "nbformat": 4,
 "nbformat_minor": 2
}
