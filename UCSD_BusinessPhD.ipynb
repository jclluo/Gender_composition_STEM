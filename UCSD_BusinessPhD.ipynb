{
 "cells": [
  {
   "cell_type": "code",
   "execution_count": 13,
   "metadata": {},
   "outputs": [],
   "source": [
    "## URL Spring 2024 Gender Gap Python Coding Testing: UCSD (Economics) (2023)\n",
    "\n",
    "# Import BeautifulSoup4 Package for Web Scraping. NOTE: Need to download both requests, beautifulsoup, and pandas package.\n",
    "\n",
    "import urllib.request\n",
    "from bs4 import BeautifulSoup\n",
    "import re\n",
    "import pandas as pd\n",
    "import requests\n",
    "# Make sure to install gender-guesser !!\n",
    "import gender_guesser.detector as gender"
   ]
  },
  {
   "cell_type": "code",
   "execution_count": 14,
   "metadata": {},
   "outputs": [],
   "source": [
    "# Send an HTTP request to the webpage\n",
    "\n",
    "url = \"https://web.archive.org/web/20230128160900/https://rady.ucsd.edu/programs/phd/phd-students/job-market-candidates.html\"\n",
    "\n",
    "page = requests.get(url)\n",
    "\n",
    "soup = BeautifulSoup(page.text,\"html.parser\")"
   ]
  },
  {
   "cell_type": "code",
   "execution_count": 15,
   "metadata": {},
   "outputs": [
    {
     "name": "stdout",
     "output_type": "stream",
     "text": [
      "Prabhanjan (PJ) DidwaniaPh.D., Quantitative Marketing, Rady School of Management, UC San DiegoB.S., Biomedical Engineering & Economics, Duke University, Durham, NC.LinkedIn•Email\n",
      "Ariel FridmanResearch area: Behavioral MarketingB.A., Economics, UC Berkeley, Berkeley, CaliforniaWebsite•Email\n",
      "Xiaofeng LiuResearch area: Innovation, Technology, and OperationsM.S. in Statistics, Georgia Institute of TechnologyB.A. in Economics, South China University of TechnologyWebsite•Email\n"
     ]
    }
   ],
   "source": [
    "# Find all list items with class \"profile-listing-card\"\n",
    "data = []\n",
    "\n",
    "profile_listing_cards = soup.find_all(\"li\", class_=\"profile-listing-card\")\n",
    "\n",
    "# Extract the text content of each list item\n",
    "for card in profile_listing_cards:\n",
    "    print(card.get_text(strip=True))"
   ]
  },
  {
   "cell_type": "code",
   "execution_count": 16,
   "metadata": {},
   "outputs": [
    {
     "name": "stdout",
     "output_type": "stream",
     "text": [
      "\n",
      "Prabhanjan (PJ) Didwania\n",
      "\n",
      "\n",
      "Ariel Fridman\n",
      "\n",
      "\n",
      "Xiaofeng Liu\n",
      "\n"
     ]
    }
   ],
   "source": [
    "# Creating item columns\n",
    "for people in profile_listing_cards:\n",
    "    item = {}\n",
    "\n",
    "    item['name'] = people.find(\"h3\").text\n",
    "\n",
    "    item['undergrad'] = people.find(\"p\").text\n",
    "\n",
    "    item['field'] = people.find(\"p\")\n",
    "\n",
    "    item['personal_website'] = people.find(\"a\").attrs[\"href\"]\n",
    "\n",
    "        # Add a new column 'school'\n",
    "    item['school'] = \"UCSD\"\n",
    "\n",
    "    #Add a new column 'year'\n",
    "    item['year'] = \"2024\"\n",
    "\n",
    "    #Add a new column 'department'\n",
    "    item['department'] = \"Business\"\n",
    "\n",
    "    #Add a new column 'gender'\n",
    "    # Create a detector object used to guess gender\n",
    "    detector = gender.Detector()\n",
    "    # Split the name to get the first name\n",
    "    first_name = item['name'].split()[0]\n",
    "\n",
    "    # make sure to use the first name and not full name\n",
    "    gender_guess = detector.get_gender(first_name) \n",
    "\n",
    "    #Add a new column 'gender'\n",
    "    item['gender'] = detector.get_gender(first_name)  \n",
    "\n",
    "    # Double Check Code w/ Print Function\n",
    "    print(item['name'])\n",
    "    \n",
    "    # Combine Items to Create Data\n",
    "    data.append(item)"
   ]
  },
  {
   "cell_type": "code",
   "execution_count": 17,
   "metadata": {},
   "outputs": [
    {
     "name": "stdout",
     "output_type": "stream",
     "text": [
      "                           name  \\\n",
      "0  \\nPrabhanjan (PJ) Didwania\\n   \n",
      "1             \\nAriel Fridman\\n   \n",
      "2              \\nXiaofeng Liu\\n   \n",
      "\n",
      "                                           undergrad  \\\n",
      "0  Ph.D., Quantitative Marketing, Rady School of ...   \n",
      "1  Research area: Behavioral Marketing B.A., Econ...   \n",
      "2  Research area: Innovation, Technology, and Ope...   \n",
      "\n",
      "                                               field  \\\n",
      "0  [Ph.D., Quantitative Marketing, Rady School of...   \n",
      "1  [Research area: Behavioral Marketing, [],  B.A...   \n",
      "2  [Research area: Innovation, Technology, and Op...   \n",
      "\n",
      "                                    personal_website school  year department  \\\n",
      "0  https://web.archive.org/web/20230128160900/htt...   UCSD  2024   Business   \n",
      "1  https://web.archive.org/web/20230128160900/htt...   UCSD  2024   Business   \n",
      "2  https://web.archive.org/web/20230128160900/htt...   UCSD  2024   Business   \n",
      "\n",
      "    gender  \n",
      "0  unknown  \n",
      "1     male  \n",
      "2  unknown  \n"
     ]
    }
   ],
   "source": [
    "# Pandas & Semi-Cleaning Data\n",
    "def clean_advisor(text):\n",
    "    return text.split(':')[1][1:]\n",
    "df = pd.DataFrame(data)\n",
    "print(df)"
   ]
  },
  {
   "cell_type": "code",
   "execution_count": 18,
   "metadata": {},
   "outputs": [],
   "source": [
    "# Download CSV File\n",
    "# df.to_csv(\"UCSD_Business2023.csv\")"
   ]
  }
 ],
 "metadata": {
  "kernelspec": {
   "display_name": "Python 3",
   "language": "python",
   "name": "python3"
  },
  "language_info": {
   "codemirror_mode": {
    "name": "ipython",
    "version": 3
   },
   "file_extension": ".py",
   "mimetype": "text/x-python",
   "name": "python",
   "nbconvert_exporter": "python",
   "pygments_lexer": "ipython3",
   "version": "3.12.3"
  }
 },
 "nbformat": 4,
 "nbformat_minor": 2
}
